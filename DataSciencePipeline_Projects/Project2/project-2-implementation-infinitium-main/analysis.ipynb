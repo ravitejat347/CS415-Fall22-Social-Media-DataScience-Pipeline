{
  "cells": [
    {
      "cell_type": "code",
      "execution_count": null,
      "metadata": {
        "colab": {
          "base_uri": "https://localhost:8080/"
        },
        "id": "Lgt0cx0aQFyl",
        "outputId": "078a1ea7-bfb7-4e09-b77e-90b8b71859bb"
      },
      "outputs": [
        {
          "name": "stdout",
          "output_type": "stream",
          "text": [
            "(9, 1)\n"
          ]
        }
      ],
      "source": [
        "import re\n",
        "import pandas as pd\n",
        "\n",
        "tweet_list = []\n",
        "\n",
        "def to_lower_case(tweet):\n",
        "    return tweet.lower()\n",
        "\n",
        "def pro_choice(tweet):\n",
        "    key_words = [\"prochoice\",\"pro choice\"]\n",
        "    patterns = [r'\\b%s\\b' % re.escape(word.strip()) for word in key_words]\n",
        "    regex = re.compile('|'.join(patterns))\n",
        "    if regex.search(to_lower_case(str(tweet))):\n",
        "        return True\n",
        "    return False\n",
        "\n",
        "def create_new_frame():\n",
        "    for index, row in data.iterrows():\n",
        "        if pro_choice(row['tweet']):\n",
        "            tweet_list.append(row['tweet'])\n",
        "\n",
        "data = pd.read_csv(\"tweet.csv\")\n",
        "create_new_frame()\n",
        "new_data = pd.DataFrame(tweet_list,columns=['tweet'])\n",
        "print(new_data.shape)\n",
        "new_data.to_csv('tweet_prochoice.csv',index=True)"
      ]
    },
    {
      "cell_type": "code",
      "execution_count": null,
      "metadata": {
        "colab": {
          "base_uri": "https://localhost:8080/"
        },
        "id": "3h8YOZfTU8Hn",
        "outputId": "ba26d260-dc9d-4e0b-e832-e041014ff4a1"
      },
      "outputs": [
        {
          "name": "stdout",
          "output_type": "stream",
          "text": [
            "(26, 1)\n"
          ]
        }
      ],
      "source": [
        "import re\n",
        "import pandas as pd\n",
        "\n",
        "tweet_list = []\n",
        "\n",
        "def to_lower_case(tweet):\n",
        "    return tweet.lower()\n",
        "\n",
        "def pro_life(tweet):\n",
        "    key_words = [\"prolife\",\"pro life\"]\n",
        "    patterns = [r'\\b%s\\b' % re.escape(word.strip()) for word in key_words]\n",
        "    regex = re.compile('|'.join(patterns))\n",
        "    if regex.search(to_lower_case(str(tweet))):\n",
        "        return True\n",
        "    return False\n",
        "\n",
        "def create_new_frame():\n",
        "    for index, row in data.iterrows():\n",
        "        if pro_life(row['tweet']):\n",
        "            tweet_list.append(row['tweet'])\n",
        "\n",
        "data = pd.read_csv(\"tweet.csv\")\n",
        "create_new_frame()\n",
        "new_data = pd.DataFrame(tweet_list,columns=['tweet'])\n",
        "print(new_data.shape)\n",
        "new_data.to_csv('tweet_prolife.csv',index=True)"
      ]
    },
    {
      "cell_type": "code",
      "execution_count": null,
      "metadata": {
        "colab": {
          "base_uri": "https://localhost:8080/"
        },
        "id": "5uO_BROyROVz",
        "outputId": "b0bed087-10a2-4f2a-c42b-def28f9da29e"
      },
      "outputs": [
        {
          "name": "stdout",
          "output_type": "stream",
          "text": [
            "(26, 1)\n"
          ]
        }
      ],
      "source": [
        "import re\n",
        "import pandas as pd\n",
        "\n",
        "comments_list = []\n",
        "\n",
        "def to_lower_case(comments):\n",
        "    return comments.lower()\n",
        "\n",
        "def pro_choice(comments):\n",
        "    key_words = [\"prochoice\",\"pro choice\"]\n",
        "    patterns = [r'\\b%s\\b' % re.escape(word.strip()) for word in key_words]\n",
        "    regex = re.compile('|'.join(patterns))\n",
        "    if regex.search(to_lower_case(str(comments))):\n",
        "        return True\n",
        "    return False\n",
        "\n",
        "def create_new_frame():\n",
        "    for index, row in data.iterrows():\n",
        "        if pro_choice(row['comments']):\n",
        "            comments_list.append(row['comments'])\n",
        "\n",
        "data = pd.read_csv(\"reddit.csv\")\n",
        "create_new_frame()\n",
        "new_data = pd.DataFrame(comments_list,columns=['comments'])\n",
        "print(new_data.shape)\n",
        "new_data.to_csv('reddit_prochoice.csv',index=True)"
      ]
    },
    {
      "cell_type": "code",
      "execution_count": null,
      "metadata": {
        "colab": {
          "base_uri": "https://localhost:8080/"
        },
        "id": "yxiY6-F1VKGU",
        "outputId": "ef2eab54-a0ca-429a-ddec-973b5091eefb"
      },
      "outputs": [
        {
          "name": "stdout",
          "output_type": "stream",
          "text": [
            "(30, 1)\n"
          ]
        }
      ],
      "source": [
        "import re\n",
        "import pandas as pd\n",
        "\n",
        "comments_list = []\n",
        "\n",
        "def to_lower_case(comments):\n",
        "    return comments.lower()\n",
        "\n",
        "def pro_life(comments):\n",
        "    key_words = [\"prolife\",\"pro life\"]\n",
        "    patterns = [r'\\b%s\\b' % re.escape(word.strip()) for word in key_words]\n",
        "    regex = re.compile('|'.join(patterns))\n",
        "    if regex.search(to_lower_case(str(comments))):\n",
        "        return True\n",
        "    return False\n",
        "\n",
        "def create_new_frame():\n",
        "    for index, row in data.iterrows():\n",
        "        if pro_life(row['comments']):\n",
        "            comments_list.append(row['comments'])\n",
        "\n",
        "data = pd.read_csv(\"reddit.csv\")\n",
        "create_new_frame()\n",
        "new_data = pd.DataFrame(comments_list,columns=['comments'])\n",
        "print(new_data.shape)\n",
        "new_data.to_csv('reddit_prolife.csv',index=True)"
      ]
    },
    {
      "cell_type": "code",
      "execution_count": null,
      "metadata": {
        "colab": {
          "base_uri": "https://localhost:8080/",
          "height": 461
        },
        "id": "YYp2jeuKWePG",
        "outputId": "83744084-092f-4f44-dea8-af507b0924df"
      },
      "outputs": [
        {
          "data": {
            "image/png": "[encoded data removed]",
            "text/plain": [
              "<Figure size 900x600 with 1 Axes>"
            ]
          },
          "metadata": {},
          "output_type": "display_data"
        }
      ],
      "source": [
        "import matplotlib.pyplot as plt\n",
        "import numpy as np\n",
        "import matplotlib as mpl\n",
        "mpl.rcParams['figure.dpi'] = 150\n",
        "\n",
        "def collection_plotter():\n",
        "    x = np.array([0,1])\n",
        "    prolife = np.array([26,30])\n",
        "    prochoice = np.array([9,26])\n",
        "    labels = ['Twitter','Reddit']\n",
        "    ax = plt.subplot(111)\n",
        "    ax.set_xticks(np.arange(len(labels)))\n",
        "    ax.set_xticklabels(labels)\n",
        "    ax.bar(x-0.2, prolife, width=0.2, color='r', align='center',label='Pro Life')\n",
        "    ax.bar(x, prochoice, width=0.2, color='b', align='center',label='Pro Choice')\n",
        "    ax.set_xlabel('Social Networks')\n",
        "    ax.set_ylabel('number of tweets/comments')\n",
        "    ax.set_title('ProLife vs ProChoice')\n",
        "    ax.legend()\n",
        "    plt.tight_layout()\n",
        "    plt.plot()\n",
        "    plt.savefig('prolife_vs_prochoice.png')   \n",
        "    plt.show()\n",
        "collection_plotter()"
      ]
    },
    {
      "cell_type": "code",
      "execution_count": null,
      "metadata": {
        "colab": {
          "base_uri": "https://localhost:8080/"
        },
        "id": "0yV2H_GHc4jY",
        "outputId": "aa56ed2b-c33c-405a-d898-6e9613e5fe4d"
      },
      "outputs": [
        {
          "output_type": "stream",
          "name": "stderr",
          "text": [
            "/usr/local/lib/python3.7/dist-packages/ipykernel_launcher.py:48: FutureWarning: The error_bad_lines argument has been deprecated and will be removed in a future version.\n",
            "\n",
            "\n",
            "/usr/local/lib/python3.7/dist-packages/ipykernel_launcher.py:49: FutureWarning: The error_bad_lines argument has been deprecated and will be removed in a future version.\n",
            "\n",
            "\n"
          ]
        }
      ],
      "source": [
        "from textblob import TextBlob\n",
        "import pandas as pd\n",
        "import numpy as np\n",
        "\n",
        "\n",
        "def analyze_tweets():\n",
        "    path = \"twitter_abortion.csv\"\n",
        "    data = pd.read_csv(path)\n",
        "    data['Subjectivity'] = data['tweet'].apply(get_text_subjectivity)\n",
        "    data['Polarity'] = data['tweet'].apply(get_text_polarity)\n",
        "    data['Analysis'] = data['Polarity'].apply(getAnalysis)\n",
        "    data.to_csv(\"tweet_sen.csv\", index=False)\n",
        "\n",
        "\n",
        "def analyze_ytcomments():\n",
        "    path = \"youtube.csv\"\n",
        "    data = pd.read_csv('youtube.csv', error_bad_lines=False, encoding='latin-1')\n",
        "    data['Subjectivity'] = data['comments'].apply(get_text_subjectivity)\n",
        "    data['Polarity'] = data['comments'].apply(get_text_polarity)\n",
        "    data['Analysis'] = data['Polarity'].apply(getAnalysis)\n",
        "    data.to_csv(\"youtube_sen.csv\", index=False)\n",
        "\n",
        "def analyze_rtcomments():\n",
        "    data = pd.read_csv('reddit_abortion.csv', error_bad_lines=False, encoding='latin-1')\n",
        "    data['Subjectivity'] = data['comments'].apply(get_text_subjectivity)\n",
        "    data['Polarity'] = data['comments'].apply(get_text_polarity)\n",
        "    data['Analysis'] = data['Polarity'].apply(getAnalysis)\n",
        "    data.to_csv(\"reddit_sen.csv\", index=False)\n",
        "\n",
        "\n",
        "def get_text_subjectivity(tweet):\n",
        "    return TextBlob(tweet).sentiment.subjectivity\n",
        "\n",
        "\n",
        "def get_text_polarity(text):\n",
        "    return TextBlob(text).sentiment.polarity\n",
        "\n",
        "\n",
        "def getAnalysis(score):\n",
        "    if score < 0:\n",
        "        return 'Negative'\n",
        "    elif score == 0:\n",
        "        return 'Neutral'\n",
        "    else:\n",
        "        return 'Positive'\n",
        "\n",
        "analyze_tweets()\n",
        "analyze_ytcomments()\n",
        "analyze_rtcomments()\n"
      ]
    },
    {
      "cell_type": "code",
      "source": [
        "import matplotlib.pyplot as plt\n",
        "import numpy as np\n",
        "import matplotlib as mpl\n",
        "mpl.rcParams['figure.dpi'] = 150\n",
        "\n",
        "def collection_plotter():\n",
        "    x = np.array([0,1,2])\n",
        "    positive = np.array([691,566,264])\n",
        "    negative = np.array([269,215,118])\n",
        "    labels = ['Twitter','Reddit','Youtube']\n",
        "    ax = plt.subplot(111)\n",
        "    ax.set_xticks(np.arange(len(labels)))\n",
        "    ax.set_xticklabels(labels)\n",
        "    ax.bar(x-0.2, positive, width=0.2, color='r', align='center',label='positive')\n",
        "    ax.bar(x, negative, width=0.2, color='b', align='center',label='negative')\n",
        "    ax.set_xlabel('Social Networks')\n",
        "    ax.set_ylabel('number of tweets/comments')\n",
        "    ax.set_title('Positive vs Negative')\n",
        "    ax.legend()\n",
        "    plt.tight_layout()\n",
        "    plt.plot()\n",
        "    plt.savefig('sentiment.png')   # <-- save first\n",
        "    plt.show()\n",
        "collection_plotter()"
      ],
      "metadata": {
        "colab": {
          "base_uri": "https://localhost:8080/",
          "height": 461
        },
        "id": "OW73u6Tm2ig6",
        "outputId": "e0eeff7f-bfd0-4c94-a8a9-34e8bf12557f"
      },
      "execution_count": null,
      "outputs": [
        {
          "output_type": "display_data",
          "data": {
            "text/plain": [
              "<Figure size 900x600 with 1 Axes>"
            ],
            "image/png": "[encoded data removed]"
          },
          "metadata": {
            "needs_background": "light"
          }
        }
      ]
    },
    {
      "cell_type": "code",
      "source": [
        "import pandas as pd\n",
        "df=pd.read_csv('total.csv')\n",
        "styles = [dict(selector=\"caption\",\n",
        "                       props=[(\"text-align\", \"center\"),\n",
        "                              (\"font-size\", \"100%\"),\n",
        "                              (\"color\", 'black')])]\n",
        "\n",
        "df = df.style.set_caption(\"Number of Tweets/Comments\").set_table_styles(styles)\n",
        "display(df)\n"
      ],
      "metadata": {
        "colab": {
          "base_uri": "https://localhost:8080/",
          "height": 161
        },
        "id": "odotf6DjKfpd",
        "outputId": "81a537ae-78c7-44e0-ee16-2b7175459fe6"
      },
      "execution_count": null,
      "outputs": [
        {
          "output_type": "display_data",
          "data": {
            "text/plain": [
              "<pandas.io.formats.style.Styler at 0x7f82ab55acd0>"
            ],
            "text/html": [
              "<style type=\"text/css\">\n",
              "#T_300ed_ caption {\n",
              "  text-align: center;\n",
              "  font-size: 100%;\n",
              "  color: black;\n",
              "}\n",
              "</style>\n",
              "<table id=\"T_300ed_\" class=\"dataframe\">\n",
              "  <caption>Number of Tweets/Comments</caption>\n",
              "  <thead>\n",
              "    <tr>\n",
              "      <th class=\"blank level0\" >&nbsp;</th>\n",
              "      <th class=\"col_heading level0 col0\" >Source</th>\n",
              "      <th class=\"col_heading level0 col1\" >Total</th>\n",
              "      <th class=\"col_heading level0 col2\" >Positive </th>\n",
              "      <th class=\"col_heading level0 col3\" >Negative</th>\n",
              "      <th class=\"col_heading level0 col4\" >Neutral</th>\n",
              "    </tr>\n",
              "  </thead>\n",
              "  <tbody>\n",
              "    <tr>\n",
              "      <th id=\"T_300ed_level0_row0\" class=\"row_heading level0 row0\" >0</th>\n",
              "      <td id=\"T_300ed_row0_col0\" class=\"data row0 col0\" >Twitter</td>\n",
              "      <td id=\"T_300ed_row0_col1\" class=\"data row0 col1\" >1397</td>\n",
              "      <td id=\"T_300ed_row0_col2\" class=\"data row0 col2\" >691</td>\n",
              "      <td id=\"T_300ed_row0_col3\" class=\"data row0 col3\" >269</td>\n",
              "      <td id=\"T_300ed_row0_col4\" class=\"data row0 col4\" >437</td>\n",
              "    </tr>\n",
              "    <tr>\n",
              "      <th id=\"T_300ed_level0_row1\" class=\"row_heading level0 row1\" >1</th>\n",
              "      <td id=\"T_300ed_row1_col0\" class=\"data row1 col0\" >Reddit</td>\n",
              "      <td id=\"T_300ed_row1_col1\" class=\"data row1 col1\" >913</td>\n",
              "      <td id=\"T_300ed_row1_col2\" class=\"data row1 col2\" >566</td>\n",
              "      <td id=\"T_300ed_row1_col3\" class=\"data row1 col3\" >215</td>\n",
              "      <td id=\"T_300ed_row1_col4\" class=\"data row1 col4\" >132</td>\n",
              "    </tr>\n",
              "    <tr>\n",
              "      <th id=\"T_300ed_level0_row2\" class=\"row_heading level0 row2\" >2</th>\n",
              "      <td id=\"T_300ed_row2_col0\" class=\"data row2 col0\" >YouTube </td>\n",
              "      <td id=\"T_300ed_row2_col1\" class=\"data row2 col1\" >574</td>\n",
              "      <td id=\"T_300ed_row2_col2\" class=\"data row2 col2\" >264</td>\n",
              "      <td id=\"T_300ed_row2_col3\" class=\"data row2 col3\" >118</td>\n",
              "      <td id=\"T_300ed_row2_col4\" class=\"data row2 col4\" >192</td>\n",
              "    </tr>\n",
              "  </tbody>\n",
              "</table>\n"
            ]
          },
          "metadata": {}
        }
      ]
    }
  ],
  "metadata": {
    "colab": {
      "provenance": []
    },
    "kernelspec": {
      "display_name": "Python 3",
      "name": "python3"
    },
    "language_info": {
      "name": "python"
    }
  },
  "nbformat": 4,
  "nbformat_minor": 0
}